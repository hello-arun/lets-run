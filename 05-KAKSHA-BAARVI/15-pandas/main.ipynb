{
 "cells": [
  {
   "cell_type": "markdown",
   "metadata": {},
   "source": [
    "## Panda dataframe cheat sheet"
   ]
  },
  {
   "cell_type": "code",
   "execution_count": 11,
   "metadata": {},
   "outputs": [],
   "source": [
    "import pandas as pd"
   ]
  },
  {
   "cell_type": "markdown",
   "metadata": {},
   "source": [
    "## Reading csv"
   ]
  },
  {
   "cell_type": "code",
   "execution_count": 20,
   "metadata": {},
   "outputs": [
    {
     "data": {
      "text/html": [
       "<div>\n",
       "<style scoped>\n",
       "    .dataframe tbody tr th:only-of-type {\n",
       "        vertical-align: middle;\n",
       "    }\n",
       "\n",
       "    .dataframe tbody tr th {\n",
       "        vertical-align: top;\n",
       "    }\n",
       "\n",
       "    .dataframe thead th {\n",
       "        text-align: right;\n",
       "    }\n",
       "</style>\n",
       "<table border=\"1\" class=\"dataframe\">\n",
       "  <thead>\n",
       "    <tr style=\"text-align: right;\">\n",
       "      <th></th>\n",
       "      <th>ep_x</th>\n",
       "      <th>ep_y</th>\n",
       "      <th>area</th>\n",
       "      <th>toten</th>\n",
       "    </tr>\n",
       "  </thead>\n",
       "  <tbody>\n",
       "    <tr>\n",
       "      <th>0</th>\n",
       "      <td>-0.006</td>\n",
       "      <td>-0.006</td>\n",
       "      <td>10.688715</td>\n",
       "      <td>-54.867034</td>\n",
       "    </tr>\n",
       "    <tr>\n",
       "      <th>1</th>\n",
       "      <td>-0.006</td>\n",
       "      <td>-0.004</td>\n",
       "      <td>10.710229</td>\n",
       "      <td>-54.867363</td>\n",
       "    </tr>\n",
       "    <tr>\n",
       "      <th>2</th>\n",
       "      <td>-0.006</td>\n",
       "      <td>-0.002</td>\n",
       "      <td>10.731743</td>\n",
       "      <td>-54.867635</td>\n",
       "    </tr>\n",
       "    <tr>\n",
       "      <th>3</th>\n",
       "      <td>-0.006</td>\n",
       "      <td>-0.000</td>\n",
       "      <td>10.753256</td>\n",
       "      <td>-54.867832</td>\n",
       "    </tr>\n",
       "    <tr>\n",
       "      <th>4</th>\n",
       "      <td>-0.006</td>\n",
       "      <td>0.002</td>\n",
       "      <td>10.774770</td>\n",
       "      <td>-54.867975</td>\n",
       "    </tr>\n",
       "    <tr>\n",
       "      <th>5</th>\n",
       "      <td>-0.006</td>\n",
       "      <td>0.004</td>\n",
       "      <td>10.796240</td>\n",
       "      <td>-54.868060</td>\n",
       "    </tr>\n",
       "    <tr>\n",
       "      <th>6</th>\n",
       "      <td>-0.006</td>\n",
       "      <td>0.006</td>\n",
       "      <td>10.817754</td>\n",
       "      <td>-54.868078</td>\n",
       "    </tr>\n",
       "    <tr>\n",
       "      <th>7</th>\n",
       "      <td>-0.004</td>\n",
       "      <td>-0.006</td>\n",
       "      <td>10.710203</td>\n",
       "      <td>-54.867364</td>\n",
       "    </tr>\n",
       "  </tbody>\n",
       "</table>\n",
       "</div>"
      ],
      "text/plain": [
       "    ep_x   ep_y       area      toten\n",
       "0 -0.006 -0.006  10.688715 -54.867034\n",
       "1 -0.006 -0.004  10.710229 -54.867363\n",
       "2 -0.006 -0.002  10.731743 -54.867635\n",
       "3 -0.006 -0.000  10.753256 -54.867832\n",
       "4 -0.006  0.002  10.774770 -54.867975\n",
       "5 -0.006  0.004  10.796240 -54.868060\n",
       "6 -0.006  0.006  10.817754 -54.868078\n",
       "7 -0.004 -0.006  10.710203 -54.867364"
      ]
     },
     "execution_count": 20,
     "metadata": {},
     "output_type": "execute_result"
    }
   ],
   "source": [
    "data = pd.read_csv(\"./raw.csv\",skipinitialspace=True,comment=\"#\")\n",
    "data"
   ]
  },
  {
   "cell_type": "markdown",
   "metadata": {},
   "source": [
    "## Finding min-max index"
   ]
  },
  {
   "cell_type": "code",
   "execution_count": 22,
   "metadata": {},
   "outputs": [
    {
     "name": "stdout",
     "output_type": "stream",
     "text": [
      "6 0\n",
      "0 7\n",
      "0 6\n"
     ]
    }
   ],
   "source": [
    "toten = data[\"toten\"]\n",
    "ep_x = data[\"ep_x\"]\n",
    "ep_y = data[\"ep_y\"]\n",
    "\n",
    "# To find the minimum/maximum element first index\n",
    "print(toten.idxmin(), toten.idxmax())\n",
    "print(ep_x.idxmin(), ep_x.idxmax())\n",
    "print(ep_y.idxmin(), ep_y.idxmax())\n"
   ]
  },
  {
   "cell_type": "markdown",
   "metadata": {},
   "source": [
    "## Sort based on a column\n",
    "\n",
    "for more information visit https://pandas.pydata.org/docs/reference/api/pandas.DataFrame.sort_values.html"
   ]
  },
  {
   "cell_type": "code",
   "execution_count": 33,
   "metadata": {},
   "outputs": [
    {
     "data": {
      "text/html": [
       "<div>\n",
       "<style scoped>\n",
       "    .dataframe tbody tr th:only-of-type {\n",
       "        vertical-align: middle;\n",
       "    }\n",
       "\n",
       "    .dataframe tbody tr th {\n",
       "        vertical-align: top;\n",
       "    }\n",
       "\n",
       "    .dataframe thead th {\n",
       "        text-align: right;\n",
       "    }\n",
       "</style>\n",
       "<table border=\"1\" class=\"dataframe\">\n",
       "  <thead>\n",
       "    <tr style=\"text-align: right;\">\n",
       "      <th></th>\n",
       "      <th>ep_x</th>\n",
       "      <th>ep_y</th>\n",
       "      <th>area</th>\n",
       "      <th>toten</th>\n",
       "    </tr>\n",
       "  </thead>\n",
       "  <tbody>\n",
       "    <tr>\n",
       "      <th>6</th>\n",
       "      <td>-0.006</td>\n",
       "      <td>0.006</td>\n",
       "      <td>10.817754</td>\n",
       "      <td>-54.868078</td>\n",
       "    </tr>\n",
       "    <tr>\n",
       "      <th>5</th>\n",
       "      <td>-0.006</td>\n",
       "      <td>0.004</td>\n",
       "      <td>10.796240</td>\n",
       "      <td>-54.868060</td>\n",
       "    </tr>\n",
       "    <tr>\n",
       "      <th>4</th>\n",
       "      <td>-0.006</td>\n",
       "      <td>0.002</td>\n",
       "      <td>10.774770</td>\n",
       "      <td>-54.867975</td>\n",
       "    </tr>\n",
       "    <tr>\n",
       "      <th>3</th>\n",
       "      <td>-0.006</td>\n",
       "      <td>-0.000</td>\n",
       "      <td>10.753256</td>\n",
       "      <td>-54.867832</td>\n",
       "    </tr>\n",
       "    <tr>\n",
       "      <th>2</th>\n",
       "      <td>-0.006</td>\n",
       "      <td>-0.002</td>\n",
       "      <td>10.731743</td>\n",
       "      <td>-54.867635</td>\n",
       "    </tr>\n",
       "    <tr>\n",
       "      <th>1</th>\n",
       "      <td>-0.006</td>\n",
       "      <td>-0.004</td>\n",
       "      <td>10.710229</td>\n",
       "      <td>-54.867363</td>\n",
       "    </tr>\n",
       "    <tr>\n",
       "      <th>0</th>\n",
       "      <td>-0.006</td>\n",
       "      <td>-0.006</td>\n",
       "      <td>10.688715</td>\n",
       "      <td>-54.867034</td>\n",
       "    </tr>\n",
       "    <tr>\n",
       "      <th>7</th>\n",
       "      <td>-0.004</td>\n",
       "      <td>-0.006</td>\n",
       "      <td>10.710203</td>\n",
       "      <td>-54.867364</td>\n",
       "    </tr>\n",
       "  </tbody>\n",
       "</table>\n",
       "</div>"
      ],
      "text/plain": [
       "    ep_x   ep_y       area      toten\n",
       "6 -0.006  0.006  10.817754 -54.868078\n",
       "5 -0.006  0.004  10.796240 -54.868060\n",
       "4 -0.006  0.002  10.774770 -54.867975\n",
       "3 -0.006 -0.000  10.753256 -54.867832\n",
       "2 -0.006 -0.002  10.731743 -54.867635\n",
       "1 -0.006 -0.004  10.710229 -54.867363\n",
       "0 -0.006 -0.006  10.688715 -54.867034\n",
       "7 -0.004 -0.006  10.710203 -54.867364"
      ]
     },
     "execution_count": 33,
     "metadata": {},
     "output_type": "execute_result"
    }
   ],
   "source": [
    "# Sort by single column\n",
    "data.sort_values(by=[\"ep_y\"],ascending=False,inplace=False)  # Highest to lowest\n",
    "# Sort by multiple coumn, \n",
    "data.sort_values(by=[\"ep_x\",\"toten\"],ascending=True,inplace=False)   # Lowest to highest\n",
    "# if inplace=True modifies the original array"
   ]
  }
 ],
 "metadata": {
  "interpreter": {
   "hash": "2ad564892dd74b971eac235c4f3f3527e7d880774ed43254abd1189ca9e0b34f"
  },
  "kernelspec": {
   "display_name": "Python 3.10.4 ('pytorch-1.12.0')",
   "language": "python",
   "name": "python3"
  },
  "language_info": {
   "codemirror_mode": {
    "name": "ipython",
    "version": 3
   },
   "file_extension": ".py",
   "mimetype": "text/x-python",
   "name": "python",
   "nbconvert_exporter": "python",
   "pygments_lexer": "ipython3",
   "version": "3.10.4"
  },
  "orig_nbformat": 4
 },
 "nbformat": 4,
 "nbformat_minor": 2
}
