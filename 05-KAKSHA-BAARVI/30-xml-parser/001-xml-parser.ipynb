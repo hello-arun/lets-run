{
 "cells": [
  {
   "cell_type": "markdown",
   "metadata": {},
   "source": [
    "# Parsing xml file\n",
    "\n",
    "Two test files are included here. \n",
    "\n",
    "`country-data.xml` Smaller file.\n",
    "\n",
    "`quantum-espresso-schema.xml`  bigger file."
   ]
  },
  {
   "cell_type": "code",
   "execution_count": 35,
   "metadata": {},
   "outputs": [
    {
     "name": "stdout",
     "output_type": "stream",
     "text": [
      "<?xml version=\"1.0\"?>\n",
      "<data>\n",
      "    <country name=\"Liechtenstein\">\n",
      "        <rank>1</rank>\n",
      "        <year>2008</year>\n",
      "        <gdppc>141100</gdppc>\n",
      "        <neighbor name=\"Austria\" direction=\"E\"/>\n",
      "        <neighbor name=\"Switzerland\" direction=\"W\"/>\n",
      "    </country>\n",
      "    <country name=\"Singapore\">\n",
      "        <rank>4</rank>\n",
      "        <year>2011</year>\n",
      "        <gdppc>59900</gdppc>\n",
      "        <neighbor name=\"Malaysia\" direction=\"N\"/>\n",
      "    </country>\n",
      "    <country name=\"Panama\">\n",
      "        <rank>68</rank>\n",
      "        <year>2011</year>\n",
      "        <gdppc>13600</gdppc>\n",
      "        <neighbor name=\"Costa Rica\" direction=\"W\"/>\n",
      "        <neighbor name=\"Colombia\" direction=\"E\"/>\n",
      "    </country>\n",
      "</data>"
     ]
    }
   ],
   "source": [
    "! cat country-data.xml"
   ]
  },
  {
   "cell_type": "markdown",
   "metadata": {},
   "source": [
    "## country-data.xml"
   ]
  },
  {
   "cell_type": "code",
   "execution_count": 36,
   "metadata": {},
   "outputs": [
    {
     "name": "stdout",
     "output_type": "stream",
     "text": [
      "data {} \n",
      "\n",
      "country {'name': 'Liechtenstein'}\n",
      "country {'name': 'Singapore'}\n",
      "country {'name': 'Panama'}\n",
      "Liechtenstein 1\n",
      "Singapore 4\n",
      "Panama 68\n"
     ]
    }
   ],
   "source": [
    "import xml.etree.ElementTree as ET\n",
    "root = ET.parse('country-data.xml').getroot()\n",
    "\n",
    "print(root.tag, root.attrib,\"\\n\")\n",
    "\n",
    "for child in root:\n",
    "    print(child.tag, child.attrib)\n",
    "\n",
    "\n",
    "for country in root.findall('country'):\n",
    "    rank = country.find('rank').text\n",
    "    name = country.get('name')\n",
    "    print(name, rank)"
   ]
  },
  {
   "cell_type": "markdown",
   "metadata": {},
   "source": [
    "## quantum-espresso-schema.xml"
   ]
  },
  {
   "cell_type": "code",
   "execution_count": 37,
   "metadata": {},
   "outputs": [
    {
     "name": "stdout",
     "output_type": "stream",
     "text": [
      "general_info {}\n",
      "parallel_info {}\n",
      "input {}\n",
      "step {'n_step': '1'}\n",
      "step {'n_step': '2'}\n",
      "output {}\n",
      "status {}\n",
      "timing_info {}\n",
      "closed {'DATE': ' 7 Sep 2022', 'TIME': '16:24: 3'}\n",
      "######################\n",
      "Type of calculation: vc-relax\n",
      "Atomic Species  (1): B\n",
      "Atomic Species  (2): N\n",
      "Total Energy step(0): -4.921953750745615e2\n",
      "Total Energy step(1): -4.921975031580411e2\n"
     ]
    }
   ],
   "source": [
    "import xml.etree.ElementTree as ET\n",
    "root = ET.parse('quantum-espresso-schema.xml').getroot()\n",
    "\n",
    "## Basic nodes \n",
    "for child in root:\n",
    "    print(child.tag, child.attrib)\n",
    "\n",
    "print(\"######################\")\n",
    "\n",
    "# Type of calculation\n",
    "print(\"Type of calculation:\",root.find(\"input/control_variables/calculation\").text)\n",
    "\n",
    "# Chemical species\n",
    "i=1\n",
    "for species in root.findall(\"input/atomic_species/species\"):\n",
    "    print(f\"Atomic Species  ({i}):\",species.get(\"name\"))\n",
    "    i+=1\n",
    "\n",
    "# Total Energies\n",
    "i=0\n",
    "for total_energy in root.findall(\"step/total_energy/etot\"):\n",
    "    print(f\"Total Energy step({i}):\",total_energy.text)\n",
    "    i+=1"
   ]
  },
  {
   "cell_type": "markdown",
   "metadata": {},
   "source": [
    "###"
   ]
  }
 ],
 "metadata": {
  "interpreter": {
   "hash": "d0bed0c993169bfacdb6b9ca41706369b2e79e2c6a9bfd7684db0886a20f685d"
  },
  "kernelspec": {
   "display_name": "Python 3.9.12",
   "language": "python",
   "name": "python3"
  },
  "language_info": {
   "codemirror_mode": {
    "name": "ipython",
    "version": 3
   },
   "file_extension": ".py",
   "mimetype": "text/x-python",
   "name": "python",
   "nbconvert_exporter": "python",
   "pygments_lexer": "ipython3",
   "version": "3.9.9"
  },
  "orig_nbformat": 4
 },
 "nbformat": 4,
 "nbformat_minor": 2
}
