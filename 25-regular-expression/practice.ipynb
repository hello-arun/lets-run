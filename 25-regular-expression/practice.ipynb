{
 "cells": [
  {
   "cell_type": "markdown",
   "metadata": {},
   "source": [
    "# Regular Expression"
   ]
  },
  {
   "cell_type": "markdown",
   "metadata": {},
   "source": [
    "Source : https://learnbyexample.github.io/py_regular_expressions/re-introduction.html"
   ]
  },
  {
   "cell_type": "markdown",
   "metadata": {},
   "source": [
    "## re.search"
   ]
  },
  {
   "cell_type": "markdown",
   "metadata": {},
   "source": [
    "Normally you'd use the `in` operator to test whether a string is part of another string or not. For regular expressions, use the `re.search` function whose argument list is shown below.\n",
    "\n",
    "```python\n",
    "re.search(pattern, string, flags=0)\n",
    "```"
   ]
  },
  {
   "cell_type": "code",
   "execution_count": 90,
   "metadata": {},
   "outputs": [
    {
     "name": "stdout",
     "output_type": "stream",
     "text": [
      "True False\n"
     ]
    },
    {
     "data": {
      "text/plain": [
       "(True, False)"
      ]
     },
     "execution_count": 90,
     "metadata": {},
     "output_type": "execute_result"
    }
   ],
   "source": [
    "sentence = 'This is a sample string'\n",
    "\n",
    "# check if 'sentence' contains the given search string\n",
    "print('is' in sentence, 'xyz' in sentence)\n",
    "# need to load the re module before use\n",
    "import re\n",
    "# check if 'sentence' contains the pattern described by RE argument\n",
    "bool(re.search(r'is', sentence)), bool(re.search(r'xyz', sentence))"
   ]
  },
  {
   "cell_type": "code",
   "execution_count": 92,
   "metadata": {},
   "outputs": [
    {
     "name": "stdout",
     "output_type": "stream",
     "text": [
      "mission success\n",
      "mission failed\n",
      "['attempt', 'tattle']\n",
      "True\n",
      "False\n"
     ]
    }
   ],
   "source": [
    "sentence = 'This is a sample string'\n",
    "if re.search(r'ring', sentence):\n",
    "    print('mission success')\n",
    "\n",
    "if not re.search(r'xyz', sentence):\n",
    "    print('mission failed')\n",
    "\n",
    "# some generator example\n",
    "words = ['cat', 'attempt', 'tattle']\n",
    "\n",
    "print([w for w in words if re.search(r'tt', w)])\n",
    "print(all(re.search(r'at', w) for w in words))\n",
    "print(any(re.search(r'stat', w) for w in words))"
   ]
  },
  {
   "cell_type": "markdown",
   "metadata": {},
   "source": [
    "## re.sub"
   ]
  },
  {
   "cell_type": "markdown",
   "metadata": {},
   "source": [
    "For normal search and replace, you'd use the `str.replace` method. For regular expressions, use the `re.sub` function, whose argument list is shown below.\n",
    "\n",
    "```python\n",
    "re.sub(pattern, repl, string, count=0, flags=0)\n",
    "```"
   ]
  },
  {
   "cell_type": "code",
   "execution_count": 97,
   "metadata": {},
   "outputs": [
    {
     "name": "stdout",
     "output_type": "stream",
     "text": [
      "HavE a nicE wEEkEnd\n",
      "HavE a nicE weekend\n",
      "string are immutable  Have a nice weekend\n"
     ]
    }
   ],
   "source": [
    "greeting = 'Have a nice weekend'\n",
    "\n",
    "# replace all occurrences of 'e' with 'E'\n",
    "# same as: greeting.replace('e', 'E')\n",
    "print(re.sub(r'e', 'E', greeting))\n",
    "\n",
    "# replace first two occurrences of 'e' with 'E'\n",
    "# same as: greeting.replace('e', 'E', 2)\n",
    "print(re.sub(r'e', 'E', greeting, count=2))\n",
    "print(\"string are immutable \",greeting)"
   ]
  },
  {
   "cell_type": "markdown",
   "metadata": {},
   "source": [
    "## Compiling regular expressions"
   ]
  },
  {
   "cell_type": "markdown",
   "metadata": {},
   "source": [
    "Regular expressions can be compiled using `re.compile` function, which gives back a `re.Pattern` object.\n",
    "\n",
    "```python\n",
    "re.compile(pattern, flags=0)\n",
    "```"
   ]
  },
  {
   "cell_type": "code",
   "execution_count": 99,
   "metadata": {},
   "outputs": [
    {
     "name": "stdout",
     "output_type": "stream",
     "text": [
      "<class 're.Pattern'>\n",
      "True\n",
      "False\n",
      "They bought a cat\n"
     ]
    }
   ],
   "source": [
    "pet = re.compile(r'dog')\n",
    "print(type(pet))\n",
    "\n",
    "# note that 'search' is called upon 'pet' which is a 're.Pattern' object\n",
    "# since 'pet' has the RE information, you only need to pass input string\n",
    "print(bool(pet.search('They bought a dog')))\n",
    "print(bool(pet.search('A cat crossed their path')))\n",
    "\n",
    "# replace all occurrences of 'dog' with 'cat'\n",
    "print(pet.sub('cat', 'They bought a dog'))"
   ]
  },
  {
   "cell_type": "markdown",
   "metadata": {},
   "source": [
    "The search method on a compiled pattern has two optional arguments to specify `start` and `end` index positions."
   ]
  },
  {
   "cell_type": "code",
   "execution_count": 100,
   "metadata": {},
   "outputs": [
    {
     "name": "stdout",
     "output_type": "stream",
     "text": [
      "True\n",
      "False\n",
      "True\n"
     ]
    }
   ],
   "source": [
    "sentence = 'This is a sample string'\n",
    "word = re.compile(r'is')\n",
    "\n",
    "# search for 'is' starting from 5th character of 'sentence' variable\n",
    "print(bool(word.search(sentence, 4)))\n",
    "\n",
    "# search for 'is' starting from 7th character of 'sentence' variable\n",
    "print(bool(word.search(sentence, 6)))\n",
    "\n",
    "# search for 'is' between 3rd and 4th characters\n",
    "print(bool(word.search(sentence, 2, 4)))"
   ]
  },
  {
   "cell_type": "markdown",
   "metadata": {},
   "source": [
    "## Anchors"
   ]
  },
  {
   "cell_type": "markdown",
   "metadata": {},
   "source": [
    "Instead of matching anywhere in the given input string, restrictions can be specified.These restrictions are made possible by assigning special meaning to certain characters and escape sequences. The characters with special meaning are known as **metacharacters** in regular expressions parlance. In case you need to match those characters literally, you need to escape them with a `\\` character.\n",
    "\n",
    "\n",
    "| Note\t| Description |\n",
    "| ---: | :--- |\n",
    "| \\A |\trestricts the match to the start of string |\n",
    "| \\Z |\trestricts the match to the end of string |\n",
    "| ^\t| restricts the match to the start of line|\n",
    "| $\t| restricts the match to the end of line|\n",
    "| \\b |\trestricts the match to the start/end of words|\n",
    "| \\B |\tmatches wherever \\b doesn't match|\n",
    "| re.fullmatch |\tensures pattern matches the entire input string |\n",
    "| |re.fullmatch(pattern, string, flags=0) |\n",
    "| \\n |\tline separator, dos-style files need special attention\n",
    "| metacharacter\t| characters with special meaning in RE|\n",
    "| re.MULTILINE or re.M |\tflag to treat input as multiline string\n",
    "| word | characters: alphabets, digits, underscore|"
   ]
  },
  {
   "cell_type": "markdown",
   "metadata": {},
   "source": [
    "## Alternation and Grouping"
   ]
  },
  {
   "cell_type": "markdown",
   "metadata": {},
   "source": [
    "Similar to logical OR, alternation in regular expressions allows you to combine multiple patterns.\n"
   ]
  },
  {
   "cell_type": "code",
   "execution_count": 103,
   "metadata": {},
   "outputs": [
    {
     "name": "stdout",
     "output_type": "stream",
     "text": [
      "True\n",
      "True\n",
      "False\n",
      "Xapults concatenate X sX\n",
      "mammal mammal bee parrot mammal\n"
     ]
    },
    {
     "data": {
      "text/plain": [
       "'cat|dog|fox'"
      ]
     },
     "execution_count": 103,
     "metadata": {},
     "output_type": "execute_result"
    }
   ],
   "source": [
    "\n",
    "# match either 'cat' or 'dog'\n",
    "print(bool(re.search(r'cat|dog', 'I like cats')))\n",
    "print(bool(re.search(r'cat|dog', 'I like dogs')))\n",
    "print(bool(re.search(r'cat|dog', 'I like parrots')))\n",
    "\n",
    "# replace either 'cat' at start of string or 'cat' at end of word\n",
    "print(re.sub(r'\\Acat|cat\\b', 'X', 'catapults concatenate cat scat'))\n",
    "# replace either 'cat' or 'dog' or 'fox' with 'mammal'\n",
    "print(re.sub(r'cat|dog|fox', 'mammal', 'cat dog bee parrot fox'))\n",
    "\n",
    "# a helpful trick where many alternations are required.\n",
    "words = ['cat', 'dog', 'fox']\n",
    "\"|\".join(words)\n"
   ]
  },
  {
   "cell_type": "markdown",
   "metadata": {},
   "source": [
    "## Grouping"
   ]
  },
  {
   "cell_type": "markdown",
   "metadata": {},
   "source": [
    "Often, there are some common things among the alternatives. It could be common characters or qualifiers like the anchors. In such cases, you can group them using a pair of parentheses metacharacters.  \n",
    "Similar to $$a(b+c)d = abd+acd$$ in maths, you get $$a(b|c)d = abd|acd$$ in regular expressions."
   ]
  },
  {
   "cell_type": "code",
   "execution_count": 104,
   "metadata": {},
   "outputs": [
    {
     "name": "stdout",
     "output_type": "stream",
     "text": [
      "red X read arX\n",
      "red X read arX\n",
      "X spare X party\n",
      "X spare X party\n",
      "X spare X party\n"
     ]
    }
   ],
   "source": [
    "# without grouping\n",
    "print(re.sub(r'reform|rest', 'X', 'red reform read arrest'))\n",
    "# with grouping\n",
    "print(re.sub(r're(form|st)', 'X', 'red reform read arrest'))\n",
    "\n",
    "# without grouping\n",
    "print(re.sub(r'\\bpar\\b|\\bpart\\b', 'X', 'par spare part party'))\n",
    "\n",
    "# taking out common anchors\n",
    "print(re.sub(r'\\b(par|part)\\b', 'X', 'par spare part party'))\n",
    "# taking out common characters as well\n",
    "# you'll later learn a better technique instead of using empty alternate\n",
    "print(re.sub(r'\\bpar(|t)\\b', 'X', 'par spare part party'))\n"
   ]
  },
  {
   "cell_type": "markdown",
   "metadata": {},
   "source": [
    "## Precedence rules"
   ]
  },
  {
   "cell_type": "markdown",
   "metadata": {},
   "source": [
    "Say, you want to replace either `are` or `spared` — which one should get precedence? The bigger word `spared` or the substring `are` inside it or based on something else?\n",
    "\n",
    "*In python which matches earliest in the input string gets precedence*  \n",
    "*If  match on same index? The precedence is then left to right in the order of declaration.*"
   ]
  },
  {
   "cell_type": "code",
   "execution_count": 105,
   "metadata": {},
   "outputs": [
    {
     "name": "stdout",
     "output_type": "stream",
     "text": [
      "<re.Match object; span=(2, 4), match='on'>\n",
      "<re.Match object; span=(10, 13), match='ant'>\n",
      "liX elephant are rope not\n",
      "liX elephant are rope not\n"
     ]
    }
   ],
   "source": [
    "words = 'lion elephant are rope not'\n",
    "\n",
    "# span shows the start and end+1 index of matched portion\n",
    "# match shows the text that satisfied the search criteria\n",
    "\n",
    "print(re.search(r'on', words))\n",
    "print(re.search(r'ant', words))\n",
    "\n",
    "# starting index of 'on' < index of 'ant' for given string input\n",
    "# so 'on' will be replaced irrespective of order\n",
    "# count optional argument here restricts no. of replacements to 1\n",
    "print(re.sub(r'on|ant', 'X', words, count=1))\n",
    "print(re.sub(r'ant|on', 'X', words, count=1))\n"
   ]
  },
  {
   "cell_type": "code",
   "execution_count": 107,
   "metadata": {},
   "outputs": [
    {
     "data": {
      "text/plain": [
       "'handful|handy|hand'"
      ]
     },
     "execution_count": 107,
     "metadata": {},
     "output_type": "execute_result"
    }
   ],
   "source": [
    "# Robust Workaround to sort based on length\n",
    "words = ['hand', 'handy', 'handful']\n",
    "\n",
    "alt = re.compile('|'.join(sorted(words, key=len, reverse=True)))\n",
    "alt.pattern"
   ]
  }
 ],
 "metadata": {
  "kernelspec": {
   "display_name": "Python 3.10.4 ('pytorch-1.12.0')",
   "language": "python",
   "name": "python3"
  },
  "language_info": {
   "codemirror_mode": {
    "name": "ipython",
    "version": 3
   },
   "file_extension": ".py",
   "mimetype": "text/x-python",
   "name": "python",
   "nbconvert_exporter": "python",
   "pygments_lexer": "ipython3",
   "version": "3.10.4"
  },
  "vscode": {
   "interpreter": {
    "hash": "6e0ad1c5e04bfedbb9b1f7d1c066b9bc395d89636f18eab34324644b2139e9f9"
   }
  }
 },
 "nbformat": 4,
 "nbformat_minor": 2
}
